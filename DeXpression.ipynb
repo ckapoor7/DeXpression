{
  "nbformat": 4,
  "nbformat_minor": 0,
  "metadata": {
    "colab": {
      "name": "DeXpression.ipynb",
      "provenance": [],
      "collapsed_sections": [],
      "authorship_tag": "ABX9TyMCtxrMO47TV5/S2VFIRjk8"
    },
    "kernelspec": {
      "name": "python3",
      "display_name": "Python 3"
    },
    "language_info": {
      "name": "python"
    },
    "accelerator": "GPU"
  },
  "cells": [
    {
      "cell_type": "markdown",
      "metadata": {
        "id": "vu3MccCA9dX5"
      },
      "source": [
        "Standard imports\n"
      ]
    },
    {
      "cell_type": "code",
      "metadata": {
        "id": "0ga62fJx82jX"
      },
      "source": [
        "import torch\n",
        "\n",
        "from torchsummary import summary\n",
        "\n",
        "import torch.nn as nn\n",
        "import torch.nn.functional as F\n",
        "import torch.utils.data as data\n",
        "import torch.optim as optim\n",
        "\n",
        "import torchvision\n",
        "import torchvision.transforms as transforms"
      ],
      "execution_count": 21,
      "outputs": []
    },
    {
      "cell_type": "markdown",
      "metadata": {
        "id": "bklaM2Vy9g_2"
      },
      "source": [
        "#DeXpression model\n",
        "\n",
        "Image pre-processing block"
      ]
    },
    {
      "cell_type": "code",
      "metadata": {
        "id": "Da_kHqAa9gjR"
      },
      "source": [
        "class block1(nn.Module):\n",
        "  '''\n",
        "  Image pre-processing block\n",
        "  '''\n",
        "  def __init__(self):\n",
        "    super(block1, self).__init__()\n",
        "    self.conv1 = nn.Conv2d(in_channels = 3, out_channels = 64, kernel_size = 7, stride = 2, padding = 3)\n",
        "    self.pool  = nn.MaxPool2d(kernel_size = 3, size = 2)\n",
        "    self.lrn  = nn.LocalResponseNorm(size = 2) #LRN as opposed to BN\n",
        "  \n",
        "  def forward(self, x):\n",
        "    x = self.pool(F.relu(self.conv1(x)))\n",
        "    x = self.lrn(x)\n",
        "    return x"
      ],
      "execution_count": 17,
      "outputs": []
    },
    {
      "cell_type": "markdown",
      "metadata": {
        "id": "wD5UAN5ZE69Y"
      },
      "source": [
        "Feature extractor block (FeatEx-1)"
      ]
    },
    {
      "cell_type": "code",
      "metadata": {
        "id": "N-0uNZawFAr_"
      },
      "source": [
        "class block2(nn.Module):\n",
        "  '''\n",
        "  First feature extractor block\n",
        "  '''\n",
        "  def __init__(self):\n",
        "    super(block2, self).__init__()\n",
        "    self.conv2a = nn.Conv2d(in_channels = 64, out_channels = 96, kernel_size = 1)\n",
        "    self.pool2a = nn.MaxPool2d(kernel_size = 3, stride = 1, padding = 1)\n",
        "    self.conv2b = nn.Conv2d(in_channels = 96, out_channels = 208, kernel_size = 3, padding = 1)\n",
        "    self.conv2c = nn.Conv2d(in_channels = 64, out_channels = 64, kernel_size = 1)\n",
        "    self.pool2b = nn.MaxPool2d(kernel_size = 3, stride = 2, padding = 0)\n",
        "\n",
        "  def forward(self, x1):\n",
        "    #Start from the same input\n",
        "    x2 = x1\n",
        "    #Path-1\n",
        "    x1 = F.relu(self.conv2a(x1))\n",
        "    x1 = F.relu(self.conv2b(x1))\n",
        "    #Path-2\n",
        "    x2 = self.pool2a(x2)\n",
        "    x2 = F.relu(self.conv2c(x2))\n",
        "    #Concatenate path-1 and path-2\n",
        "    x3 = torch.cat(x1, x2)\n",
        "    x3 = self.pool2b(x3)\n",
        "    return x3\n"
      ],
      "execution_count": 18,
      "outputs": []
    },
    {
      "cell_type": "markdown",
      "metadata": {
        "id": "C1oBfuopHo8o"
      },
      "source": [
        "Feature extractor block (FeatExt-2)"
      ]
    },
    {
      "cell_type": "code",
      "metadata": {
        "id": "0Nv4GIf6HuGX"
      },
      "source": [
        "class block3(nn.Module):\n",
        "  '''\n",
        "   Second feature extractor block \n",
        "  '''\n",
        "  def __init__(self):\n",
        "    super(block3, self).__init__()\n",
        "    self.conv3a = nn.Conv2d(in_channels = 208, out_channels = 96, kernel_size = 1)\n",
        "    self.pool3a = nn.MaxPool2d(kernel_size = 3, stride = 1, padding = 1)\n",
        "    self.conv3b = nn.Conv2d(in_channels = 96, out_channels = 208, kernel_size = 3, stride = 1, padding = 1)\n",
        "    self.conv3c = nn.Conv2d(in_channels = 208, out_channels = 64, kernel_size = 1)\n",
        "    self.pool3b = nn.MaxPool2d(kernel_size = 3, stride = 2, padding = 0)\n",
        "    #Dropout regularization\n",
        "    self.dropout = nn.Dropout(p = 0.125)\n",
        "    #Fully connected layers (3-layered neural network)\n",
        "    self.fc1 = nn.Linear(282*14*14*4, 1024)\n",
        "    self.fc2 = nn.Linear(1024, 64)\n",
        "    self.fc3 = nn.Linear(64, 8)\n",
        "\n",
        "  def forward(self, x1):\n",
        "    #Start from the same input\n",
        "    x2 = x1\n",
        "    #Path-1\n",
        "    x1 = F.relu(self.conv3a(x1))\n",
        "    x1 = F.relu(self.conv3b(x2))\n",
        "    #Path-2\n",
        "    x2 = self.pool3a(x2)\n",
        "    x2 = F.relu(self.conv3c(x2))\n",
        "    x2 = F.pad(x2, (0, 0, 0, 0, 72, 72))\n",
        "    #Concatenate path-1 and path-2\n",
        "    x3 = torch.cat(x1, x2)\n",
        "    x3 = self.pool3b(x3)\n",
        "    x3 = x3.view(-1, 208*13*13*4)\n",
        "    x3 = F.relu(self.fc1(x3))\n",
        "    x3 = F.relu(self.fc2(x3))\n",
        "    x3 = F.log_softmax(self.fc3(x3))\n",
        "    return x3\n"
      ],
      "execution_count": 15,
      "outputs": []
    },
    {
      "cell_type": "markdown",
      "metadata": {
        "id": "k3gEHeniMnOS"
      },
      "source": [
        "Some initial setup"
      ]
    },
    {
      "cell_type": "code",
      "metadata": {
        "id": "CNtYQj24HxSi"
      },
      "source": [
        "device = 'cuda' if torch.cuda.is_available() else 'cpu'\n",
        "\n",
        "#Hyperparameters\n",
        "epochs = 100\n",
        "batch_size = 8\n",
        "learning_rate = 0.001\n"
      ],
      "execution_count": 20,
      "outputs": []
    }
  ]
}